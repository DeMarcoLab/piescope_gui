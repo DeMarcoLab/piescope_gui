{
 "cells": [
  {
   "cell_type": "code",
   "execution_count": 54,
   "metadata": {},
   "outputs": [
    {
     "name": "stdout",
     "output_type": "stream",
     "text": [
      "The autoreload extension is already loaded. To reload it, use:\n",
      "  %reload_ext autoreload\n"
     ]
    }
   ],
   "source": [
    "%load_ext autoreload\n",
    "%autoreload 2\n",
    "\n",
    "import fibsem\n",
    "from fibsem import utils, acquire, movement, calibration\n",
    "from fibsem.structures import BeamType\n",
    "import numpy as np\n",
    "\n",
    "from pprint import pprint\n",
    "import os\n"
   ]
  },
  {
   "cell_type": "code",
   "execution_count": 21,
   "metadata": {},
   "outputs": [
    {
     "name": "stderr",
     "output_type": "stream",
     "text": [
      "2022-09-07 16:29:15,834 — root — INFO — connect_to_microscope:28 — Microscope client connecting to [10.0.0.1]\n",
      "2022-09-07 16:29:15,839 — root — INFO — connect_to_microscope:31 — Microscope client connected to [10.0.0.1]\n",
      "2022-09-07 16:29:15,840 — root — INFO — setup_session:242 — Finished setup for session: demo_2022-09-07.04-29-15PM\n"
     ]
    },
    {
     "name": "stdout",
     "output_type": "stream",
     "text": [
      "Client connecting to [10.0.0.1:7520]...\n",
      "Client connected to [10.0.0.1:7520]\n"
     ]
    }
   ],
   "source": [
    "microscope, settings = utils.setup_session()"
   ]
  },
  {
   "cell_type": "code",
   "execution_count": 22,
   "metadata": {},
   "outputs": [],
   "source": []
  },
  {
   "cell_type": "code",
   "execution_count": 31,
   "metadata": {},
   "outputs": [],
   "source": [
    "def take_image_stack(microscope, settings, hfws, label):\n",
    "    \n",
    "    for hfw in hfws:\n",
    "        settings.image.hfw = hfw\n",
    "        settings.image.label = f\"{label}_{hfw:.5f}\"\n",
    "    \n",
    "        ib_image = acquire.new_image(microscope, settings.image)\n",
    "\n",
    "\n",
    "def post_light_image_workflow(microscope, settings, state, hfws, diag_shift):\n",
    "    \n",
    "    diag_dx = np.sqrt(2) / 2  * diag_shift\n",
    "    diag_dy = np.sqrt(2) / 2  * diag_shift\n",
    "    \n",
    "    # no move\n",
    "    calibration.set_microscope_state(microscope, state)\n",
    "    take_image_stack(microscope, settings, hfws, \"base\")\n",
    "\n",
    "    # move diag down\n",
    "    calibration.set_microscope_state(microscope, state)\n",
    "    movement.move_stage_relative_with_corrected_movement(\n",
    "        microscope, \n",
    "        settings,\n",
    "        dx=-diag_dx,\n",
    "        dy=-diag_dy,\n",
    "        beam_type=BeamType.ION     \n",
    "    )\n",
    "    take_image_stack(microscope, settings, hfws, \"diag_down\")\n",
    "\n",
    "    # move diag up \n",
    "    calibration.set_microscope_state(microscope, state)\n",
    "    movement.move_stage_relative_with_corrected_movement(\n",
    "        microscope, \n",
    "        settings,\n",
    "        dx=diag_dx,\n",
    "        dy=diag_dy,\n",
    "        beam_type=BeamType.ION     \n",
    "    )\n",
    "    take_image_stack(microscope, settings, hfws, \"diag_up\")\n",
    "\n"
   ]
  },
  {
   "cell_type": "code",
   "execution_count": 52,
   "metadata": {},
   "outputs": [
    {
     "name": "stdout",
     "output_type": "stream",
     "text": [
      "2.8284271247461906e-05 2.8284271247461906e-05 4e-05\n"
     ]
    }
   ],
   "source": [
    "settings.image.beam_type = BeamType.ION\n",
    "settings.image.dwell_time = 200e-9\n",
    "settings.image.save = True\n",
    "settings.image.resolution = \"1536x1024\"\n",
    "settings.image.save_path = \"correlation\"\n",
    "hfws = [50e-6, 80e-6, 150e-6, 200e-6, 300e-6, 500e-6]\n",
    "\n",
    "tile_shift = 40e-6\n",
    "diag_shift = 40e-6\n"
   ]
  },
  {
   "cell_type": "code",
   "execution_count": 33,
   "metadata": {},
   "outputs": [],
   "source": [
    "# initial position\n",
    "initial_position = calibration.get_current_microscope_state(microscope)"
   ]
  },
  {
   "cell_type": "code",
   "execution_count": 53,
   "metadata": {},
   "outputs": [
    {
     "name": "stderr",
     "output_type": "stream",
     "text": [
      "2022-09-07 16:50:52,075 — root — INFO — set_microscope_state:234 — restoring microscope state...\n",
      "2022-09-07 16:50:52,734 — root — INFO — safe_absolute_stage_movement:338 — safe moving to StagePosition(x=-0.00428725, y=-0.002529, z=0.031460134, t=0.43633351, r=-2.2863664, coordinate_system=Raw)\n",
      "2022-09-07 16:50:53,097 — root — INFO — safe_absolute_stage_movement:340 — safe movement complete.\n",
      "2022-09-07 16:50:53,098 — root — INFO — set_microscope_state:244 — restoring electron beam settings...\n",
      "2022-09-07 16:51:08,346 — root — INFO — set_microscope_state:265 — restoring ion beam settings...\n",
      "2022-09-07 16:51:08,669 — root — INFO — set_microscope_state:283 — microscope state restored\n",
      "2022-09-07 16:51:08,754 — root — INFO — autocontrast:27 — automatically adjusting contrast...\n",
      "2022-09-07 16:51:12,762 — root — INFO — acquire_image:187 — acquiring new ION image.\n",
      "2022-09-07 16:51:15,043 — root — INFO — gamma_correction:86 — GAMMA_CORRECTION | Ion | 17.799 | 1.000\n",
      "2022-09-07 16:51:15,148 — root — INFO — move_stage_relative_with_corrected_movement:450 — moving stage: StagePosition(x=4e-05, y=0, z=-0)\n",
      "2022-09-07 16:51:23,879 — root — INFO — autocontrast:27 — automatically adjusting contrast...\n",
      "2022-09-07 16:51:38,915 — root — INFO — acquire_image:187 — acquiring new ION image.\n",
      "2022-09-07 16:51:43,628 — root — INFO — gamma_correction:86 — GAMMA_CORRECTION | Ion | -112.728 | 0.150\n"
     ]
    },
    {
     "data": {
      "text/plain": [
       "AdornedImage(width=1536, height=1024, bit_depth=8)"
      ]
     },
     "execution_count": 53,
     "metadata": {},
     "output_type": "execute_result"
    }
   ],
   "source": [
    "N_GRID_Y = 3\n",
    "N_GRID_X = 3\n",
    "\n",
    "for grid_y in range(N_GRID_Y):\n",
    "    for grid_x in range(N_GRID_X):\n",
    "\n",
    "        # set folder for grid step\n",
    "        settings.image.save_path = os.path.join(\"correlation\", f\"{grid_y:03}.{grid_x:03}\")\n",
    "\n",
    "        # take base images and state\n",
    "        base_state = calibration.get_current_microscope_state(microscope)\n",
    "        take_image_stack(microscope, settings, hfws, \"start\")\n",
    "\n",
    "        # move to piescope, take light image\n",
    "\n",
    "        # paause for piescope workflow\n",
    "        input(\"PIESCOPE WORKFLOW\")\n",
    "\n",
    "        # post piescope workflow\n",
    "        post_light_image_workflow(microscope, settings, base_state, hfws, diag_shift)\n",
    "\n",
    "        # move stage to next tile column\n",
    "        calibration.set_microscope_state(microscope, base_state)\n",
    "        acquire.new_image(microscope, settings.image)\n",
    "        movement.move_stage_relative_with_corrected_movement(\n",
    "            microscope, settings, dx=tile_shift, dy=0, beam_type=BeamType.ION \n",
    "        )\n",
    "\n",
    "    # move back to initial grid position\n",
    "    calibration.set_microscope_state(initial_position)\n",
    "\n",
    "    # move to next grid row\n",
    "    movement.move_stage_relative_with_corrected_movement(\n",
    "        microscope, settings, dx=0, dy=tile_shift, beam_type=BeamType.ION \n",
    "    )\n",
    "    initial_position = calibration.get_current_microscope_state(microscope)"
   ]
  },
  {
   "cell_type": "code",
   "execution_count": 82,
   "metadata": {},
   "outputs": [
    {
     "name": "stdout",
     "output_type": "stream",
     "text": [
      "250 250\n",
      "(250, 500)\n"
     ]
    }
   ],
   "source": [
    "\n",
    "\n",
    "arr = np.zeros((500, 500))\n",
    "\n",
    "cx, cy = arr.shape[1] // 2, arr.shape[0] // 2\n",
    "print(cx, cy)\n",
    "\n",
    "crop = arr[:cy, :]\n",
    "print(crop.shape)"
   ]
  },
  {
   "cell_type": "code",
   "execution_count": 36,
   "metadata": {},
   "outputs": [
    {
     "data": {
      "text/plain": [
       "1536"
      ]
     },
     "execution_count": 36,
     "metadata": {},
     "output_type": "execute_result"
    }
   ],
   "source": []
  },
  {
   "cell_type": "code",
   "execution_count": 87,
   "metadata": {},
   "outputs": [],
   "source": [
    "grid_y = 0\n",
    "grid_x = 1\n",
    "settings.image.save_path = os.path.join(\"correlation\", f\"{grid_y:03}.{grid_x:03}\")"
   ]
  },
  {
   "cell_type": "code",
   "execution_count": 88,
   "metadata": {},
   "outputs": [
    {
     "name": "stdout",
     "output_type": "stream",
     "text": [
      "correlation\\000.001\n"
     ]
    }
   ],
   "source": [
    "print(settings.image.save_path)"
   ]
  },
  {
   "cell_type": "code",
   "execution_count": null,
   "metadata": {},
   "outputs": [],
   "source": []
  }
 ],
 "metadata": {
  "kernelspec": {
   "display_name": "Python 3.9.12 ('piescope2')",
   "language": "python",
   "name": "python3"
  },
  "language_info": {
   "codemirror_mode": {
    "name": "ipython",
    "version": 3
   },
   "file_extension": ".py",
   "mimetype": "text/x-python",
   "name": "python",
   "nbconvert_exporter": "python",
   "pygments_lexer": "ipython3",
   "version": "3.9.12"
  },
  "orig_nbformat": 4,
  "vscode": {
   "interpreter": {
    "hash": "a5d89b38a5a37a1e6f4ea49ec9fa613fd1af26d52525cfde99da44938a892d79"
   }
  }
 },
 "nbformat": 4,
 "nbformat_minor": 2
}
